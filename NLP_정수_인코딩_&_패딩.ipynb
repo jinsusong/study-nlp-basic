{
  "nbformat": 4,
  "nbformat_minor": 0,
  "metadata": {
    "colab": {
      "name": "NLP 정수 인코딩 & 패딩.ipynb",
      "private_outputs": true,
      "provenance": [],
      "authorship_tag": "ABX9TyPnGn/X1zITOKVfGsHUZOdD",
      "include_colab_link": true
    },
    "kernelspec": {
      "name": "python3",
      "display_name": "Python 3"
    },
    "language_info": {
      "name": "python"
    }
  },
  "cells": [
    {
      "cell_type": "markdown",
      "metadata": {
        "id": "view-in-github",
        "colab_type": "text"
      },
      "source": [
        "<a href=\"https://colab.research.google.com/github/jinsusong/study-nlp-basic/blob/main/NLP_%EC%A0%95%EC%88%98_%EC%9D%B8%EC%BD%94%EB%94%A9_%26_%ED%8C%A8%EB%94%A9.ipynb\" target=\"_parent\"><img src=\"https://colab.research.google.com/assets/colab-badge.svg\" alt=\"Open In Colab\"/></a>"
      ]
    },
    {
      "cell_type": "markdown",
      "source": [
        "정수 인코딩 & 패딩 \n",
        "03월 08일까지 PPT 초안 작성\n",
        "\n"
      ],
      "metadata": {
        "id": "urCekvPzu3hd"
      }
    }
  ]
}